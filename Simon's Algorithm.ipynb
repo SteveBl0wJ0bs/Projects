{
 "cells": [
  {
   "cell_type": "markdown",
   "metadata": {},
   "source": [
    "# Algoritmo di Simon\n",
    "Roberto Garbarino, Cristiano Olivari, Giacomo Garbarino, Greta Gandini"
   ]
  },
  {
   "cell_type": "markdown",
   "metadata": {},
   "source": [
    "## Indice\n",
    "1. [Problema di Simon](#what)  \n",
    "2. [Algoritmo di Simon](#algo)  \n",
    "3. [Creazione dell'oracolo](#oracle)  \n",
    "4. [Codice](#code)\n",
    "5. [Bibliografia](#bibb)"
   ]
  },
  {
   "cell_type": "markdown",
   "metadata": {},
   "source": [
    "## Problema di Simon <a name='what'> </a>"
   ]
  },
  {
   "cell_type": "markdown",
   "metadata": {},
   "source": [
    "L'algoritmo di Simon è stato il primo esempio di speed up esponenziale su un computer quantistico rispetto a un computer tradizionale.  \n",
    "Data una funzione $f:\\{0,1\\}^n \\rightarrow \\{0,1\\}^n$ con la proprietà che per qualche $s \\in \\{0,1\\}^n$, per ogni $x, y \\in \\{0,1\\}^n$, $f(x) = f(y)$ se e solo se $y = x \\oplus s$.\n",
    "Dobbiamo trovare s.\n",
    "\n",
    "A livello classico per risolvere questo problema l'unica possibilità è quella di provare ogni $x$ e $y$ finchè non ne troviamo una coppia tale che $f(x) = f(y)$, con complessità quindi $O(\\sqrt{2^n})$. Con un computer quantistico e l'algoritmo di Simon la complessità diventa $O(n)$."
   ]
  },
  {
   "cell_type": "markdown",
   "metadata": {},
   "source": [
    "##  Algoritmo di Simon <a name='algo'> </a>"
   ]
  },
  {
   "cell_type": "markdown",
   "metadata": {},
   "source": [
    "1. Partiamo dallo stato $|\\psi_0\\rangle = |0\\rangle^{\\otimes n}|0\\rangle^{\\otimes n}$ e applichiamo $N$ porte di Hadamard ai primi n qubit con $N=2^n$:\n",
    "\n",
    "$$\n",
    "    |\\psi_0\\rangle \\xrightarrow{H^{\\otimes N}} |\\psi_1\\rangle = \\frac{1}{\\sqrt{N}} \\sum_{x=0}^{N-1} |x\\rangle|0\\rangle^{\\otimes n}\n",
    "$$\n",
    "  \n",
    "2. Ora applichiamo l'oracolo che per ogni $|x\\rangle$ calcola $f(x)$ e immagazzina il valore nelle ancille.\n",
    "\n",
    "$$\n",
    "    |\\psi_1\\rangle \\xrightarrow{O} |\\psi_2\\rangle = \\frac{1}{\\sqrt{N}} \\sum_{x=0}^{N-1} |x\\rangle|f(x)\\rangle\n",
    "$$\n",
    "\n",
    "3. Misuriamo le ancilla. Verrà osservato un certo valore di $f(x)$. Per come è stato impostato il problema $f(x)$ potrà corrispondere a $x$ o $x \\oplus s$. Per cui il primo registro diventa\n",
    "$$\n",
    "    |\\psi_3\\rangle = \\frac{1}{\\sqrt{2}}  (|x\\rangle + |x \\oplus s\\rangle)\n",
    "$$\n",
    "\n",
    "4. Applichiamo n porte di Hadamard\n",
    "$$\n",
    "        |\\psi_4\\rangle = \\frac{1}{\\sqrt{2N}} \\sum_{y=0}^{N-1} (-1)^{xy} \\big[1 + (-1)^{sy}\\big] |y\\rangle\n",
    "$$\n",
    "\n",
    "5. La misura dei rimanenti n qubit, darà una stringa $y$ tale che $sy = 0$. Supponiamo che questa sia $y_1$. La conoscenza di $y_1$ non ci permette di avere immediatamente $s$. Per questo dobbiamo iterare la procedura per ottenere diversi valori $y_2, y_3,..., y_n$ tali che $sy_i = 0$ per $i = 1,...,n$. Con questi $y_i$ possiamo risolvere il seguente sistema di equazioni:\n",
    "$$\n",
    "    \\begin{cases} \n",
    "        s·y_1=0\\\\\n",
    "        s·y_2=0\\\\\n",
    "        ...\\\\\n",
    "        s·y_n = 0\\\\\n",
    "    \\end{cases}\n",
    "$$\n",
    "da cui possiamo determinare s per esempio tramite eliminazione gaussiana.\n",
    "\n",
    "Quindi, in questo particolare problema l'algoritmo quantistico esegue esponenzialmente meno step rispetto a quello classico. Non è semplice visionare tale algoritmo in un contesto reale, ma rappresenta la prima prova che ci può essere uno speed-up esponenziale nel risolvere uno specifico problema usando un computer quantistico."
   ]
  },
  {
   "cell_type": "markdown",
   "metadata": {},
   "source": [
    "## Creazione dell'Oracolo <a name='oracle'> </a>"
   ]
  },
  {
   "cell_type": "markdown",
   "metadata": {},
   "source": [
    "Creiamo una funzione `oracle` per la stringa `s = 111` che agisce nel seguente modo:\n",
    "\n",
    "1. Copia il contenuto dei primi registri nelle ancille. Questo passaggio è molto semplice in quanto dato che le ancille sono tutte $|0\\rangle$ basterà applicare delle porte $CNOT$ sulle ancilla usando i primi registri come controllo.\n",
    "```\n",
    "    for i in range(n):\n",
    "        circuit.cx(qubit[i], qubit[n+i])\n",
    "```\n",
    "con n la lunghezza della stringa.  \n",
    "  \n",
    "  \n",
    "2. Applica delle porte $CNOT$ usando come qubit di controllo il primo.\n",
    "```\n",
    "    for i in range(n):\n",
    "        circuit.cx(qubit[0], qubit[n+i])\n",
    "```\n",
    "\n",
    "\n",
    "Dalla seguente tabella si può vedere il funzionamento:\n",
    "\n",
    "\n",
    "| x  | f(x)| x ⊕ s | f(x⊕s)| \n",
    "|:------:|:-------:|:--------------:|:----------------:|\n",
    "| 000  |  000  |      111     |      000       |\n",
    "| 001  |  001  |      110     |      001       |\n",
    "| 010  |  010  |      101     |      010       |\n",
    "| 011  |  011  |      100     |      011       |\n",
    "| 100  |  011  |      011     |      011       |\n",
    "| 101  |  010  |      010     |      010       |\n",
    "| 110  |  001  |      001     |      001       |\n",
    "| 111  |  000  |      000     |      000       |"
   ]
  },
  {
   "cell_type": "code",
   "execution_count": 1,
   "metadata": {},
   "outputs": [],
   "source": [
    "#initialization\n",
    "import numpy as np\n",
    "import matplotlib.pyplot as plt\n",
    "%matplotlib inline\n",
    "\n",
    "# importing Qiskit\n",
    "from qiskit import BasicAer, IBMQ\n",
    "from qiskit import QuantumCircuit, ClassicalRegister, QuantumRegister, execute\n",
    "from qiskit.compiler import transpile\n",
    "from qiskit.tools.monitor import job_monitor\n",
    "from qiskit.providers.ibmq import least_busy\n",
    "\n",
    "# import basic plot tools\n",
    "from qiskit.tools.visualization import plot_histogram"
   ]
  },
  {
   "cell_type": "code",
   "execution_count": 2,
   "metadata": {},
   "outputs": [],
   "source": [
    "def oracle(hiddenString, circuit, qubit):\n",
    "    n = len(hiddenString)\n",
    "    #copy\n",
    "    for i in range(n):\n",
    "        circuit.cx(qubit[i], qubit[n+i])\n",
    "    #cnot gates\n",
    "    for i in range(n):\n",
    "        circuit.cx(qubit[0], qubit[n+i]) "
   ]
  },
  {
   "cell_type": "markdown",
   "metadata": {},
   "source": [
    "## Codice <a name='code'> </a>"
   ]
  },
  {
   "cell_type": "code",
   "execution_count": 3,
   "metadata": {},
   "outputs": [],
   "source": [
    "s = \"111\" # the hidden bitstring\n",
    "n = len(s) #the length of the bitstring"
   ]
  },
  {
   "cell_type": "markdown",
   "metadata": {},
   "source": [
    "Iniziamo creando il circuito e i relativi registri. Dopodichè applichiamo $n$ porte di Hadamard:"
   ]
  },
  {
   "cell_type": "code",
   "execution_count": 4,
   "metadata": {},
   "outputs": [],
   "source": [
    "# Step 1\n",
    "# Creating registers\n",
    "qr = QuantumRegister(2*n)\n",
    "cr = ClassicalRegister(2*n)\n",
    "simonCircuit = QuantumCircuit(qr, cr)\n",
    "\n",
    "# Step 2\n",
    "# Apply Hadamard gates\n",
    "for i in range(n):\n",
    "    simonCircuit.h(qr[i])"
   ]
  },
  {
   "cell_type": "markdown",
   "metadata": {},
   "source": [
    "Chiamiamo l'oracolo per trasformare il nostro stato in $|\\psi\\rangle = \\frac{1}{\\sqrt{N}} \\sum_{x=0}^{N-1} |x\\rangle|f(x)\\rangle$"
   ]
  },
  {
   "cell_type": "code",
   "execution_count": 5,
   "metadata": {},
   "outputs": [
    {
     "data": {
      "text/plain": [
       "<qiskit.circuit.instructionset.InstructionSet at 0x18b2461c5c8>"
      ]
     },
     "execution_count": 5,
     "metadata": {},
     "output_type": "execute_result"
    }
   ],
   "source": [
    "# Step 3 query the oracle\n",
    "simonCircuit.barrier()\n",
    "oracle(s,simonCircuit,qr)\n",
    "simonCircuit.barrier()"
   ]
  },
  {
   "cell_type": "markdown",
   "metadata": {},
   "source": [
    "Adesso misuriamo le ancille e applichiamo le porte $H$ ai primi registri:"
   ]
  },
  {
   "cell_type": "code",
   "execution_count": 6,
   "metadata": {},
   "outputs": [
    {
     "data": {
      "text/plain": [
       "<qiskit.circuit.instructionset.InstructionSet at 0x18b2461c508>"
      ]
     },
     "execution_count": 6,
     "metadata": {},
     "output_type": "execute_result"
    }
   ],
   "source": [
    "# Measure ancilla qubits\n",
    "for i in range(n, 2*n):\n",
    "    simonCircuit.measure(qr[i], cr[i])\n",
    "\n",
    "simonCircuit.barrier()\n",
    "\n",
    "# Step 4 apply Hadamard gates to the first register\n",
    "for i in range(n):\n",
    "    simonCircuit.h(qr[i])\n",
    "\n",
    "simonCircuit.barrier()"
   ]
  },
  {
   "cell_type": "markdown",
   "metadata": {},
   "source": [
    "Misuriamo i rimanenti registri per ottenere un valore di $y$:"
   ]
  },
  {
   "cell_type": "code",
   "execution_count": 7,
   "metadata": {},
   "outputs": [
    {
     "data": {
      "image/png": "[encoded data removed]",
      "text/plain": [
       "<Figure size 1250.96x445.48 with 1 Axes>"
      ]
     },
     "execution_count": 7,
     "metadata": {},
     "output_type": "execute_result"
    }
   ],
   "source": [
    "# Step 5 perform measurement on the first register\n",
    "for i in range(n):\n",
    "    simonCircuit.measure(qr[i], cr[i])\n",
    "\n",
    "#draw the circuit\n",
    "simonCircuit.draw(output='mpl')"
   ]
  },
  {
   "cell_type": "markdown",
   "metadata": {},
   "source": [
    "Testiamo il nostro circuito su un simulatore (locale) con 1024 shots.\n",
    "I dati hanno bisogno di un po' di manipolazione perchè si possano capire meglio. Dato che avremo delle misurazioni che tengono conto dei qubit ancilla, condenseremo quelle con i primi registri in comune. Per esempio le misurazioni 000000, 010000, 100000, 110000 verranno tutte condensate in 000.\n"
   ]
  },
  {
   "cell_type": "code",
   "execution_count": 8,
   "metadata": {
    "scrolled": false
   },
   "outputs": [
    {
     "name": "stdout",
     "output_type": "stream",
     "text": [
      "{'110': 235, '011': 251, '000': 270, '101': 268}\n"
     ]
    },
    {
     "data": {
      "image/png": "[encoded data removed]",
      "text/plain": [
       "<Figure size 504x360 with 1 Axes>"
      ]
     },
     "execution_count": 8,
     "metadata": {},
     "output_type": "execute_result"
    }
   ],
   "source": [
    "# use local simulator\n",
    "backend = BasicAer.get_backend('qasm_simulator')\n",
    "shots = 1024\n",
    "results = execute(simonCircuit, backend=backend, shots=shots).result()\n",
    "answer = results.get_counts()\n",
    "# Categorize measurements by input register values\n",
    "answer_plot = {}\n",
    "for measresult in answer.keys():\n",
    "    measresult_input = measresult[len(str(s)):]\n",
    "    if measresult_input in answer_plot:\n",
    "        answer_plot[measresult_input] += answer[measresult]\n",
    "    else:\n",
    "        answer_plot[measresult_input] = answer[measresult] \n",
    "\n",
    "# Plot the categorized results\n",
    "print( answer_plot )\n",
    "plot_histogram(answer_plot)"
   ]
  },
  {
   "cell_type": "markdown",
   "metadata": {},
   "source": [
    "Per trovare s adesso basta risolvere il seguente sistema lineare:"
   ]
  },
  {
   "cell_type": "code",
   "execution_count": 29,
   "metadata": {},
   "outputs": [
    {
     "name": "stdout",
     "output_type": "stream",
     "text": [
      "s·110 = 0\n",
      "s·011 = 0\n",
      "s·000 = 0\n",
      "s·101 = 0\n"
     ]
    }
   ],
   "source": [
    "for elem in answer_plot:\n",
    "    print (\"s·\" + elem + \" = 0\")"
   ]
  },
  {
   "cell_type": "markdown",
   "metadata": {},
   "source": [
    "## Bibliografia <a name='bibb'> </a>\n",
    "\n",
    "[1] Daniel R. Simon (1997) \"On the Power of Quantum Computation\" SIAM Journal on Computing, 26(5)  \n",
    "[2] Dispense del corso di Computazione Quantistica a cura di Paolo Solinas\n"
   ]
  }
 ],
 "metadata": {
  "kernelspec": {
   "display_name": "Python 3",
   "language": "python",
   "name": "python3"
  },
  "language_info": {
   "codemirror_mode": {
    "name": "ipython",
    "version": 3
   },
   "file_extension": ".py",
   "mimetype": "text/x-python",
   "name": "python",
   "nbconvert_exporter": "python",
   "pygments_lexer": "ipython3",
   "version": "3.7.4"
  }
 },
 "nbformat": 4,
 "nbformat_minor": 2
}
